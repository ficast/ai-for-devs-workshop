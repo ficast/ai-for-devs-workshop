{
 "cells": [
  {
   "cell_type": "markdown",
   "metadata": {},
   "source": [
    "## Jupiter Notebooks\n",
    "\n",
    "Jupyter Notebook is an open-source web application that allows users to create and share documents that contain live code, equations, visualizations, and narrative text. It is widely used in data science, machine learning, scientific computing, and academic research. Here are some key features and components of Jupyter Notebook:\n",
    "\n",
    "### Key Features\n",
    "\n",
    "1. **Interactive Computing**:\n",
    "   - Jupyter Notebook allows users to write and execute code in real-time. This interactivity makes it easy to test and debug code snippets, visualize data, and explore results immediately.\n",
    "     \n",
    "2. **Support for Multiple Languages**:\n",
    "   - While Jupyter was originally designed for Python, it now supports over 40 programming languages, including R, Julia, and Scala, through the use of different kernels.\n",
    "\n",
    "3. **Rich Text Support**:\n",
    "   - Users can include formatted text, images, links, and LaTeX equations in their notebooks. This feature is particularly useful for creating well-documented analyses and reports.\n",
    "\n",
    "4. **Data Visualization**:\n",
    "   - Jupyter Notebook integrates seamlessly with popular data visualization libraries like Matplotlib, Seaborn, and Plotly, allowing users to create and display plots and charts inline.\n",
    "\n",
    "5. **Modular and Shareable**:\n",
    "   - Notebooks can be easily shared with others, making collaboration straightforward. They can be exported in various formats, including HTML, PDF, and Markdown.\n",
    "\n",
    "6. **Extensions and Customization**:\n",
    "   - Jupyter Notebook supports a variety of extensions that enhance its functionality, such as code formatting, spell checking, and interactive widgets.\n",
    "\n",
    "### Components\n",
    "\n",
    "1. **Cells**:\n",
    "   - Notebooks are composed of cells, which can contain code, text (Markdown), or raw text. Code cells allow for the execution of code, while Markdown cells enable rich text formatting.\n",
    "\n",
    "2. **Kernel**:\n",
    "   - The kernel is the computational engine that executes the code contained in the notebook. Each notebook is associated with a specific kernel, which determines the programming language used.\n",
    "\n",
    "3. **Notebook Interface**:\n",
    "   - The user interface is web-based, allowing users to interact with notebooks through a browser. It includes a toolbar for common actions (e.g., saving, running cells) and a file browser for managing notebooks.\n",
    "\n",
    "### Use Cases\n",
    "\n",
    "- **Data Analysis**: Jupyter Notebook is widely used for exploratory data analysis, allowing data scientists to manipulate and visualize data interactively.\n",
    "- **Machine Learning**: It is a popular tool for developing and testing machine learning models, as it allows for easy experimentation and visualization of results.\n",
    "- **Education**: Jupyter Notebooks are often used in educational settings to teach programming, data science, and mathematics, providing an interactive learning experience.\n",
    "- **Research**: Researchers use Jupyter Notebooks to document their workflows, share findings, and reproduce analyses.\n",
    "\n",
    "### Getting started\n",
    "\n",
    "1. **[JupyterHub](https://jupyter.org/hub)**: A multi-user platform for hosting Jupyter Notebooks, ideal for educational and research environments.\n",
    "2. **[Anaconda](https://www.anaconda.com/)**: A popular Python distribution that includes Jupyter Notebooks and a suite of data science libraries for local development.\n",
    "3. **[Google Colab](https://colab.research.google.com/)**: A cloud-based platform providing free access to Jupyter Notebooks, with built-in support for GPUs and machine learning libraries.\n",
    "4. **[Amazon SageMaker](https://aws.amazon.com/sagemaker/)**: A fully managed service for building, training, and deploying machine learning models using Jupyter Notebooks.\n",
    "5. **[Kaggle](https://www.kaggle.com/)**: A platform for data science competitions that provides cloud-hosted Jupyter Notebooks with pre-installed libraries."
   ]
  },
  {
   "cell_type": "markdown",
   "metadata": {},
   "source": [
    "### NumPy"
   ]
  },
  {
   "cell_type": "code",
   "execution_count": 3,
   "metadata": {},
   "outputs": [
    {
     "name": "stdout",
     "output_type": "stream",
     "text": [
      "Array of zeros:\n",
      " [[0. 0. 0.]\n",
      " [0. 0. 0.]\n",
      " [0. 0. 0.]]\n",
      "Random array:\n",
      " [[0.00128948 0.78014623 0.44140607]\n",
      " [0.74811487 0.38008863 0.67113328]\n",
      " [0.8470608  0.07327977 0.6314535 ]]\n"
     ]
    }
   ],
   "source": [
    "import numpy as np\n",
    "\n",
    "# Create an array of zeros\n",
    "array = np.zeros((3, 3))\n",
    "print(\"Array of zeros:\\n\", array)\n",
    "\n",
    "# Create an array with random values\n",
    "random_array = np.random.random((3, 3))\n",
    "print(\"Random array:\\n\", random_array)"
   ]
  },
  {
   "cell_type": "markdown",
   "metadata": {},
   "source": [
    "### Matplotlib"
   ]
  },
  {
   "cell_type": "code",
   "execution_count": 5,
   "metadata": {},
   "outputs": [
    {
     "data": {
      "image/png": "[encoded data removed]",
      "text/plain": [
       "<Figure size 1000x600 with 1 Axes>"
      ]
     },
     "metadata": {},
     "output_type": "display_data"
    }
   ],
   "source": [
    "import matplotlib.pyplot as plt\n",
    "\n",
    "# Generate random data\n",
    "data = np.random.randn(1000)  # 1000 random numbers from a normal distribution\n",
    "\n",
    "# Create a histogram\n",
    "plt.figure(figsize=(10, 6))  # Set the figure size\n",
    "plt.hist(data, bins=30, color='blue', alpha=0.7, edgecolor='black')  # Plot histogram\n",
    "\n",
    "# Add titles and labels\n",
    "plt.title('Histogram of Random Data', fontsize=16)  # Title of the histogram\n",
    "plt.xlabel('Value', fontsize=14)  # X-axis label\n",
    "plt.ylabel('Frequency', fontsize=14)  # Y-axis label\n",
    "\n",
    "# Show the plot\n",
    "plt.grid(axis='y', alpha=0.75)  # Add grid lines for better readability\n",
    "plt.show()  # Display the histogram"
   ]
  },
  {
   "cell_type": "markdown",
   "metadata": {},
   "source": [
    "### Pandas"
   ]
  },
  {
   "cell_type": "code",
   "execution_count": 7,
   "metadata": {},
   "outputs": [
    {
     "name": "stdout",
     "output_type": "stream",
     "text": [
      "      Name  Age           City\n",
      "0    Alice   24       New York\n",
      "1      Bob   27  San Francisco\n",
      "2  Charlie   22    Los Angeles\n",
      "Filtered DataFrame:\n",
      "     Name  Age           City\n",
      "0  Alice   24       New York\n",
      "1    Bob   27  San Francisco\n"
     ]
    }
   ],
   "source": [
    "import pandas as pd\n",
    "\n",
    "# Create a simple DataFrame\n",
    "data = {\n",
    "    'Name': ['Alice', 'Bob', 'Charlie'],\n",
    "    'Age': [24, 27, 22],\n",
    "    'City': ['New York', 'San Francisco', 'Los Angeles']\n",
    "}\n",
    "df = pd.DataFrame(data)\n",
    "print(df)\n",
    "\n",
    "# Filter rows where age is greater than 23\n",
    "filtered_df = df[df['Age'] > 23]\n",
    "print(\"Filtered DataFrame:\\n\", filtered_df)\n"
   ]
  },
  {
   "cell_type": "markdown",
   "metadata": {},
   "source": [
    "### TensorFlow"
   ]
  },
  {
   "cell_type": "code",
   "execution_count": 9,
   "metadata": {},
   "outputs": [
    {
     "name": "stderr",
     "output_type": "stream",
     "text": [
      "/opt/anaconda3/lib/python3.12/site-packages/keras/src/layers/core/dense.py:87: UserWarning: Do not pass an `input_shape`/`input_dim` argument to a layer. When using Sequential models, prefer using an `Input(shape)` object as the first layer in the model instead.\n",
      "  super().__init__(activity_regularizer=activity_regularizer, **kwargs)\n"
     ]
    },
    {
     "data": {
      "text/html": [
       "<pre style=\"white-space:pre;overflow-x:auto;line-height:normal;font-family:Menlo,'DejaVu Sans Mono',consolas,'Courier New',monospace\"><span style=\"font-weight: bold\">Model: \"sequential\"</span>\n",
       "</pre>\n"
      ],
      "text/plain": [
       "\u001b[1mModel: \"sequential\"\u001b[0m\n"
      ]
     },
     "metadata": {},
     "output_type": "display_data"
    },
    {
     "data": {
      "text/html": [
       "<pre style=\"white-space:pre;overflow-x:auto;line-height:normal;font-family:Menlo,'DejaVu Sans Mono',consolas,'Courier New',monospace\">┏━━━━━━━━━━━━━━━━━━━━━━━━━━━━━━━━━┳━━━━━━━━━━━━━━━━━━━━━━━━┳━━━━━━━━━━━━━━━┓\n",
       "┃<span style=\"font-weight: bold\"> Layer (type)                    </span>┃<span style=\"font-weight: bold\"> Output Shape           </span>┃<span style=\"font-weight: bold\">       Param # </span>┃\n",
       "┡━━━━━━━━━━━━━━━━━━━━━━━━━━━━━━━━━╇━━━━━━━━━━━━━━━━━━━━━━━━╇━━━━━━━━━━━━━━━┩\n",
       "│ dense (<span style=\"color: #0087ff; text-decoration-color: #0087ff\">Dense</span>)                   │ (<span style=\"color: #00d7ff; text-decoration-color: #00d7ff\">None</span>, <span style=\"color: #00af00; text-decoration-color: #00af00\">10</span>)             │         <span style=\"color: #00af00; text-decoration-color: #00af00\">7,850</span> │\n",
       "├─────────────────────────────────┼────────────────────────┼───────────────┤\n",
       "│ dense_1 (<span style=\"color: #0087ff; text-decoration-color: #0087ff\">Dense</span>)                 │ (<span style=\"color: #00d7ff; text-decoration-color: #00d7ff\">None</span>, <span style=\"color: #00af00; text-decoration-color: #00af00\">10</span>)             │           <span style=\"color: #00af00; text-decoration-color: #00af00\">110</span> │\n",
       "└─────────────────────────────────┴────────────────────────┴───────────────┘\n",
       "</pre>\n"
      ],
      "text/plain": [
       "┏━━━━━━━━━━━━━━━━━━━━━━━━━━━━━━━━━┳━━━━━━━━━━━━━━━━━━━━━━━━┳━━━━━━━━━━━━━━━┓\n",
       "┃\u001b[1m \u001b[0m\u001b[1mLayer (type)                   \u001b[0m\u001b[1m \u001b[0m┃\u001b[1m \u001b[0m\u001b[1mOutput Shape          \u001b[0m\u001b[1m \u001b[0m┃\u001b[1m \u001b[0m\u001b[1m      Param #\u001b[0m\u001b[1m \u001b[0m┃\n",
       "┡━━━━━━━━━━━━━━━━━━━━━━━━━━━━━━━━━╇━━━━━━━━━━━━━━━━━━━━━━━━╇━━━━━━━━━━━━━━━┩\n",
       "│ dense (\u001b[38;5;33mDense\u001b[0m)                   │ (\u001b[38;5;45mNone\u001b[0m, \u001b[38;5;34m10\u001b[0m)             │         \u001b[38;5;34m7,850\u001b[0m │\n",
       "├─────────────────────────────────┼────────────────────────┼───────────────┤\n",
       "│ dense_1 (\u001b[38;5;33mDense\u001b[0m)                 │ (\u001b[38;5;45mNone\u001b[0m, \u001b[38;5;34m10\u001b[0m)             │           \u001b[38;5;34m110\u001b[0m │\n",
       "└─────────────────────────────────┴────────────────────────┴───────────────┘\n"
      ]
     },
     "metadata": {},
     "output_type": "display_data"
    },
    {
     "data": {
      "text/html": [
       "<pre style=\"white-space:pre;overflow-x:auto;line-height:normal;font-family:Menlo,'DejaVu Sans Mono',consolas,'Courier New',monospace\"><span style=\"font-weight: bold\"> Total params: </span><span style=\"color: #00af00; text-decoration-color: #00af00\">7,960</span> (31.09 KB)\n",
       "</pre>\n"
      ],
      "text/plain": [
       "\u001b[1m Total params: \u001b[0m\u001b[38;5;34m7,960\u001b[0m (31.09 KB)\n"
      ]
     },
     "metadata": {},
     "output_type": "display_data"
    },
    {
     "data": {
      "text/html": [
       "<pre style=\"white-space:pre;overflow-x:auto;line-height:normal;font-family:Menlo,'DejaVu Sans Mono',consolas,'Courier New',monospace\"><span style=\"font-weight: bold\"> Trainable params: </span><span style=\"color: #00af00; text-decoration-color: #00af00\">7,960</span> (31.09 KB)\n",
       "</pre>\n"
      ],
      "text/plain": [
       "\u001b[1m Trainable params: \u001b[0m\u001b[38;5;34m7,960\u001b[0m (31.09 KB)\n"
      ]
     },
     "metadata": {},
     "output_type": "display_data"
    },
    {
     "data": {
      "text/html": [
       "<pre style=\"white-space:pre;overflow-x:auto;line-height:normal;font-family:Menlo,'DejaVu Sans Mono',consolas,'Courier New',monospace\"><span style=\"font-weight: bold\"> Non-trainable params: </span><span style=\"color: #00af00; text-decoration-color: #00af00\">0</span> (0.00 B)\n",
       "</pre>\n"
      ],
      "text/plain": [
       "\u001b[1m Non-trainable params: \u001b[0m\u001b[38;5;34m0\u001b[0m (0.00 B)\n"
      ]
     },
     "metadata": {},
     "output_type": "display_data"
    }
   ],
   "source": [
    "import tensorflow as tf\n",
    "from tensorflow.keras import layers\n",
    "\n",
    "# Define a simple sequential model\n",
    "model = tf.keras.Sequential([\n",
    "    layers.Dense(10, activation='relu', input_shape=(784,)),\n",
    "    layers.Dense(10, activation='softmax')\n",
    "])\n",
    "\n",
    "# Compile the model\n",
    "model.compile(optimizer='adam', loss='sparse_categorical_crossentropy', metrics=['accuracy'])\n",
    "\n",
    "# Model summary\n",
    "model.summary()"
   ]
  },
  {
   "cell_type": "markdown",
   "metadata": {},
   "source": [
    "### PyTorch"
   ]
  },
  {
   "cell_type": "code",
   "execution_count": 11,
   "metadata": {},
   "outputs": [
    {
     "name": "stdout",
     "output_type": "stream",
     "text": [
      "Number of parameters: 7960\n"
     ]
    }
   ],
   "source": [
    "import torch\n",
    "import torch.nn as nn\n",
    "import torch.optim as optim\n",
    "\n",
    "# Define a simple neural network\n",
    "class SimpleNN(nn.Module):\n",
    "    def __init__(self):\n",
    "        super(SimpleNN, self).__init__()\n",
    "        self.fc1 = nn.Linear(784, 10)\n",
    "        self.fc2 = nn.Linear(10, 10)\n",
    "    \n",
    "    def forward(self, x):\n",
    "        x = torch.relu(self.fc1(x))\n",
    "        x = torch.softmax(self.fc2(x), dim=1)\n",
    "        return x\n",
    "\n",
    "# Initialize the model, loss function, and optimizer\n",
    "model = SimpleNN()\n",
    "criterion = nn.CrossEntropyLoss()\n",
    "optimizer = optim.Adam(model.parameters(), lr=0.001)\n",
    "\n",
    "# Model summary (number of parameters)\n",
    "print(f\"Number of parameters: {sum(p.numel() for p in model.parameters())}\")\n"
   ]
  },
  {
   "cell_type": "code",
   "execution_count": null,
   "metadata": {},
   "outputs": [],
   "source": []
  }
 ],
 "metadata": {
  "kernelspec": {
   "display_name": "Python 3 (ipykernel)",
   "language": "python",
   "name": "python3"
  },
  "language_info": {
   "codemirror_mode": {
    "name": "ipython",
    "version": 3
   },
   "file_extension": ".py",
   "mimetype": "text/x-python",
   "name": "python",
   "nbconvert_exporter": "python",
   "pygments_lexer": "ipython3",
   "version": "3.12.4"
  }
 },
 "nbformat": 4,
 "nbformat_minor": 4
}

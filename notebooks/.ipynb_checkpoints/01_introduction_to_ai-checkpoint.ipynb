{
    "cells": [
        {
            "cell_type": "markdown",
            "metadata": {},
            "source": [
                "# Introduction to Generative AI\n",
                "\n",
                "Generative AI refers to systems that can create new content such as text, images, or music by learning from existing data.\n",
                "This type of AI has become possible due to advances in deep learning, particularly neural networks, which have enabled the creation of powerful models like GPT, DALL-E, and others.\n"
            ]
        },
        {
            "cell_type": "markdown",
            "metadata": {},
            "source": [
                "## The Foundations of Generative AI\n",
                "\n",
                "### Machine Learning (ML)\n",
                "Machine learning is a branch of AI that involves training algorithms to learn patterns from data. It's the backbone of many AI technologies and has been instrumental in the development of generative AI.\n",
                "ML can be categorized into supervised learning, unsupervised learning, and reinforcement learning.\n"
            ]
        },
        {
            "cell_type": "markdown",
            "metadata": {},
            "source": [
                "### Deep Learning (DL)\n",
                "Deep learning is a subset of machine learning that uses neural networks with many layers (hence 'deep') to model complex patterns in data.\n",
                "It's particularly well-suited for tasks like image and speech recognition, and it's the driving force behind generative AI models.\n"
            ]
        },
        {
            "cell_type": "markdown",
            "metadata": {},
            "source": [
                "### Natural Language Processing (NLP)\n",
                "NLP is a field of AI focused on the interaction between computers and human language.\n",
                "It's crucial for generative AI models that work with text, enabling machines to understand, interpret, and generate human language.\n"
            ]
        },
        {
            "cell_type": "code",
            "execution_count": null,
            "metadata": {
                "vscode": {
                    "languageId": "plaintext"
                }
            },
            "outputs": [],
            "source": [
                "import numpy as np\n",
                "\n",
                "# Create an array of zeros\n",
                "array = np.zeros((3, 3))\n",
                "print(\"Array of zeros:\\n\", array)\n",
                "\n",
                "# Create an array with random values\n",
                "random_array = np.random.random((3, 3))\n",
                "print(\"Random array:\\n\", random_array)"
            ]
        },
        {
            "cell_type": "code",
            "execution_count": null,
            "metadata": {
                "vscode": {
                    "languageId": "plaintext"
                }
            },
            "outputs": [],
            "source": [
                "import pandas as pd\n",
                "\n",
                "# Create a simple DataFrame\n",
                "data = {\n",
                "    'Name': ['Alice', 'Bob', 'Charlie'],\n",
                "    'Age': [24, 27, 22],\n",
                "    'City': ['New York', 'San Francisco', 'Los Angeles']\n",
                "}\n",
                "df = pd.DataFrame(data)\n",
                "print(df)\n",
                "\n",
                "# Filter rows where age is greater than 23\n",
                "filtered_df = df[df['Age'] > 23]\n",
                "print(\"Filtered DataFrame:\\n\", filtered_df)\n"
            ]
        },
        {
            "cell_type": "code",
            "execution_count": null,
            "metadata": {
                "vscode": {
                    "languageId": "plaintext"
                }
            },
            "outputs": [],
            "source": [
                "import tensorflow as tf\n",
                "from tensorflow.keras import layers\n",
                "\n",
                "# Define a simple sequential model\n",
                "model = tf.keras.Sequential([\n",
                "    layers.Dense(10, activation='relu', input_shape=(784,)),\n",
                "    layers.Dense(10, activation='softmax')\n",
                "])\n",
                "\n",
                "# Compile the model\n",
                "model.compile(optimizer='adam', loss='sparse_categorical_crossentropy', metrics=['accuracy'])\n",
                "\n",
                "# Model summary\n",
                "model.summary()"
            ]
        },
        {
            "cell_type": "code",
            "execution_count": null,
            "metadata": {
                "vscode": {
                    "languageId": "plaintext"
                }
            },
            "outputs": [],
            "source": [
                "import torch\n",
                "import torch.nn as nn\n",
                "import torch.optim as optim\n",
                "\n",
                "# Define a simple neural network\n",
                "class SimpleNN(nn.Module):\n",
                "    def __init__(self):\n",
                "        super(SimpleNN, self).__init__()\n",
                "        self.fc1 = nn.Linear(784, 10)\n",
                "        self.fc2 = nn.Linear(10, 10)\n",
                "    \n",
                "    def forward(self, x):\n",
                "        x = torch.relu(self.fc1(x))\n",
                "        x = torch.softmax(self.fc2(x), dim=1)\n",
                "        return x\n",
                "\n",
                "# Initialize the model, loss function, and optimizer\n",
                "model = SimpleNN()\n",
                "criterion = nn.CrossEntropyLoss()\n",
                "optimizer = optim.Adam(model.parameters(), lr=0.001)\n",
                "\n",
                "# Model summary (number of parameters)\n",
                "print(f\"Number of parameters: {sum(p.numel() for p in model.parameters())}\")\n"
            ]
        }
    ],
    "metadata": {
        "language_info": {
            "name": "python"
        }
    },
    "nbformat": 4,
    "nbformat_minor": 2
}

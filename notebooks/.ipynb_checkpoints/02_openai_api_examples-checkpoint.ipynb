{
 "cells": [
  {
   "cell_type": "code",
   "execution_count": 116,
   "id": "59689dfb-603d-4ac7-8d7e-18e596da83c6",
   "metadata": {},
   "outputs": [],
   "source": [
    "# Import necessary libraries\n",
    "from openai import OpenAI\n",
    "import os\n",
    "from getpass import getpass\n",
    "\n",
    "# If you want to load from .env:\n",
    "from dotenv import load_dotenv\n",
    "load_dotenv()\n",
    "\n",
    "api_key = os.getenv('OPENAI_API_KEY')\n",
    "if not api_key:\n",
    "    raise ValueError(\"A variável de ambiente OPENAI_API_KEY não está definida\")\n",
    "\n",
    "# Ask the user for their OpenAI API key (comment line above if you set .env file)\n",
    "# api_key = openai.api_key = getpass(\"Please enter your OpenAI API key: \")\n",
    "\n",
    "client = OpenAI(api_key=api_key)\n",
    "\n",
    "# Function to call the OpenAI API\n",
    "# Check all the available models here https://platform.openai.com/docs/models\n",
    "\n",
    "def call_openai_api(prompt, max_tokens=1000, temperature=0.5):\n",
    "    response = client.chat.completions.create(\n",
    "        model=\"gpt-4o-mini\",  # The model to use, gpt-3.5-turbo is optimized for chat-like interactions.\n",
    "        messages=[\n",
    "            {\"role\": \"system\", \"content\": \"You are a knowledgeable and concise Senior Software Engineer assistant.\"},  # System message to set the behavior of the assistant\n",
    "            {\"role\": \"user\", \"content\": prompt}  # The user's prompt to which the model will respond\n",
    "        ],\n",
    "        max_tokens=max_tokens,  # The maximum number of tokens to generate in the response.\n",
    "        temperature=temperature, # Controls the randomness of the output; lower values make the output more focused and deterministic.\n",
    "    )\n",
    "    return response.choices[0].message.content.strip()  # Adjusted to access the content properly"
   ]
  },
  {
   "cell_type": "code",
   "execution_count": 70,
   "id": "024d8bd7-9ee2-46de-b91b-e902247efdea",
   "metadata": {},
   "outputs": [
    {
     "name": "stdout",
     "output_type": "stream",
     "text": [
      "Code Snippet Generation Example:\n",
      "Certainly! Here’s a Python implementation of the bubble sort algorithm to sort an array of integers in ascending order:\n",
      "\n",
      "```python\n",
      "def bubble_sort(arr):\n",
      "    n = len(arr)\n",
      "    # Traverse through all array elements\n",
      "    for i in range(n):\n",
      "        # Last i elements are already in place\n",
      "        for j in range(0, n-i-1):\n",
      "            # Traverse the array from 0 to n-i-1\n",
      "            # Swap if the element found is greater than the next element\n",
      "            if arr[j] > arr[j+1]:\n",
      "                arr[j], arr[j+1] = arr[j+1], arr[j]\n",
      "\n",
      "# Example usage\n",
      "if __name__ == \"__main__\":\n",
      "    array = [64, 34, 25, 12, 22, 11, 90]\n",
      "    print(\"Original array:\", array)\n",
      "    bubble_sort(array)\n",
      "    print(\"Sorted array:\", array)\n",
      "```\n",
      "\n",
      "This code defines a `bubble_sort` function that sorts the input array `arr` in place. The example usage demonstrates how to call the function and print the original and sorted arrays.\n"
     ]
    }
   ],
   "source": [
    "# 1. Code Snippet Generation\n",
    "language = \"Python\"\n",
    "task_description = \"sort an array of integers in ascending order using the bubble sort algorithm\"\n",
    "prompt_snippet = f\"\"\"Generate a {language} code that performs the following task: {task_description}.\"\"\"\n",
    "print(\"Code Snippet Generation Example:\")\n",
    "print(call_openai_api(prompt_snippet))"
   ]
  },
  {
   "cell_type": "code",
   "execution_count": 72,
   "id": "7d46d6ac-c884-49c8-a1b9-c3194d3ea764",
   "metadata": {},
   "outputs": [
    {
     "name": "stdout",
     "output_type": "stream",
     "text": [
      "\n",
      "Functional Code Generation Example:\n",
      "Certainly! Below is a Python function that implements the quicksort algorithm to sort a list of numbers:\n",
      "\n",
      "```python\n",
      "def quicksort(arr):\n",
      "    if len(arr) <= 1:\n",
      "        return arr\n",
      "    else:\n",
      "        pivot = arr[len(arr) // 2]  # Choose the middle element as the pivot\n",
      "        left = [x for x in arr if x < pivot]  # Elements less than the pivot\n",
      "        middle = [x for x in arr if x == pivot]  # Elements equal to the pivot\n",
      "        right = [x for x in arr if x > pivot]  # Elements greater than the pivot\n",
      "        return quicksort(left) + middle + quicksort(right)  # Recursively sort and combine\n",
      "\n",
      "# Example usage:\n",
      "numbers = [3, 6, 8, 10, 1, 2, 1]\n",
      "sorted_numbers = quicksort(numbers)\n",
      "print(sorted_numbers)  # Output: [1, 1, 2, 3, 6, 8, 10]\n",
      "```\n",
      "\n",
      "This `quicksort` function follows the classic quicksort algorithm, where it selects a pivot and partitions the array into elements less than, equal to, and greater than the pivot. It then recursively sorts the left and right partitions.\n"
     ]
    }
   ],
   "source": [
    "# 2. Functional Code Generation\n",
    "algorithm_name = \"quicksort algorithm\"\n",
    "problem_description = \"sort a list of numbers\"\n",
    "prompt_functional = f\"\"\"Create a {language} function that implements the {algorithm_name} to solve the following problem: {problem_description}.\"\"\"\n",
    "print(\"\\nFunctional Code Generation Example:\")\n",
    "print(call_openai_api(prompt_functional))"
   ]
  },
  {
   "cell_type": "code",
   "execution_count": 73,
   "id": "6290e88f-475e-4b2f-aa0d-ba0f5dc534ad",
   "metadata": {},
   "outputs": [
    {
     "name": "stdout",
     "output_type": "stream",
     "text": [
      "\n",
      "Code Translation Example:\n",
      "Here is the equivalent JavaScript code for the provided Python function:\n",
      "\n",
      "```javascript\n",
      "function sumOfNumbers(numbers) {\n",
      "    return numbers.reduce((acc, num) => acc + num, 0);\n",
      "}\n",
      "```\n",
      "\n",
      "This JavaScript function uses the `reduce` method to sum the elements of the `numbers` array.\n"
     ]
    }
   ],
   "source": [
    "# 3. Code Translation\n",
    "source_language = \"Python\"\n",
    "target_language = \"JavaScript\"\n",
    "code_to_translate = \"\"\"def sum_of_numbers(numbers):\\n    return sum(numbers)\"\"\"\n",
    "prompt_translation = f\"\"\"Convert the following code from {source_language} to {target_language}:\\n\\n```{code_to_translate}```\"\"\"\n",
    "print(\"\\nCode Translation Example:\")\n",
    "print(call_openai_api(prompt_translation))"
   ]
  },
  {
   "cell_type": "code",
   "execution_count": 74,
   "id": "6fdf6675-7dc4-40c5-a7f6-ec7777b311bc",
   "metadata": {},
   "outputs": [
    {
     "name": "stdout",
     "output_type": "stream",
     "text": [
      "\n",
      "Testing Example:\n",
      "Certainly! Here are some unit tests for the `is_prime` function using the `unittest` framework in Python:\n",
      "\n",
      "```python\n",
      "import unittest\n",
      "\n",
      "def is_prime(n):\n",
      "    if n <= 1:\n",
      "        return False\n",
      "    for i in range(2, int(n**0.5) + 1):\n",
      "        if n % i == 0:\n",
      "            return False\n",
      "    return True\n",
      "\n",
      "class TestIsPrime(unittest.TestCase):\n",
      "\n",
      "    def test_negative_numbers(self):\n",
      "        self.assertFalse(is_prime(-1))\n",
      "        self.assertFalse(is_prime(-10))\n",
      "    \n",
      "    def test_zero_and_one(self):\n",
      "        self.assertFalse(is_prime(0))\n",
      "        self.assertFalse(is_prime(1))\n",
      "    \n",
      "    def test_prime_numbers(self):\n",
      "        self.assertTrue(is_prime(2))\n",
      "        self.assertTrue(is_prime(3))\n",
      "        self.assertTrue(is_prime(5))\n",
      "        self.assertTrue(is_prime(7))\n",
      "        self.assertTrue(is_prime(11))\n",
      "        self.assertTrue(is_prime(13))\n",
      "        self.assertTrue(is_prime(17))\n",
      "        self.assertTrue(is_prime(19))\n",
      "        self.assertTrue(is_prime(23))\n",
      "        self.assertTrue(is_prime(29))\n",
      "\n",
      "    def test_non_prime_numbers(self):\n",
      "        self.assertFalse(is_prime(4))\n",
      "        self.assertFalse(is_prime(6))\n",
      "        self.assertFalse(is_prime(8))\n",
      "        self.assertFalse(is_prime(9))\n",
      "        self.assertFalse(is_prime(10))\n",
      "        self.assertFalse(is_prime(12))\n",
      "        self.assertFalse(is_prime(14))\n",
      "        self.assertFalse(is_prime(15))\n",
      "        self.assertFalse(is_prime(16))\n",
      "        self.assertFalse(is_prime(18))\n",
      "        self.assertFalse(is_prime(20))\n",
      "\n",
      "    def test_large_prime(self):\n",
      "        self.assertTrue(is_prime(7919))  # 7919 is a prime number\n",
      "\n",
      "    def test_large_non_prime(self):\n",
      "        self.assertFalse(is_prime(8000))  # 8000 is not a prime number\n",
      "\n",
      "if __name__ == '__main__':\n",
      "    unittest.main()\n",
      "```\n",
      "\n",
      "### Explanation:\n",
      "- **Negative Numbers**: Tests that negative numbers return `False`.\n",
      "- **Zero and One**: Tests that `0` and `1` return `False`.\n",
      "- **Prime Numbers**: Tests several known prime numbers to verify they return `True`.\n",
      "- **Non-Prime Numbers**: Tests several known non-prime numbers to ensure they return `False`.\n",
      "- **Large Prime and Non-Prime**: Tests a large prime and a large non-prime number for additional coverage.\n",
      "\n",
      "You can run this test suite by placing it in a Python file and executing it.\n"
     ]
    }
   ],
   "source": [
    "# 4. Testing\n",
    "code_to_test = \"\"\"def is_prime(n):\\n    if n <= 1:\\n        return False\\n    for i in range(2, int(n**0.5) + 1):\\n        if n % i == 0:\\n            return False\\n    return True\"\"\"\n",
    "prompt_testing = f\"\"\"Generate unit tests in {language} for the function between backticks:\\n\\n```{code_to_test}```\"\"\"\n",
    "print(\"\\nTesting Example:\")\n",
    "print(call_openai_api(prompt_testing))"
   ]
  },
  {
   "cell_type": "code",
   "execution_count": 75,
   "id": "133e1edf-3cce-4f62-98e0-d878be7532e9",
   "metadata": {},
   "outputs": [
    {
     "name": "stdout",
     "output_type": "stream",
     "text": [
      "\n",
      "Documenting Example:\n",
      "```python\n",
      "def calculate_area(radius):\n",
      "    \"\"\"\n",
      "    Calculate the area of a circle given its radius.\n",
      "\n",
      "    Args:\n",
      "        radius (float): The radius of the circle. Must be a non-negative value.\n",
      "\n",
      "    Returns:\n",
      "        float: The area of the circle calculated using the formula \n",
      "               A = π * radius^2, where π is approximated as 3.14.\n",
      "\n",
      "    Raises:\n",
      "        ValueError: If the radius is negative.\n",
      "\n",
      "    Examples:\n",
      "        >>> calculate_area(5)\n",
      "        78.5\n",
      "        >>> calculate_area(0)\n",
      "        0.0\n",
      "    \"\"\"\n",
      "    return 3.14 * radius * radius\n",
      "```\n"
     ]
    }
   ],
   "source": [
    "# 5. Documenting\n",
    "function_code = \"\"\"def calculate_area(radius):\\n    return 3.14 * radius * radius\"\"\"\n",
    "prompt_documenting = f\"\"\"Generate a docstring in {language} for the function between backticks:\\n\\n```{function_code}```\"\"\"\n",
    "print(\"\\nDocumenting Example:\")\n",
    "print(call_openai_api(prompt_documenting))"
   ]
  },
  {
   "cell_type": "code",
   "execution_count": 76,
   "id": "c76844b5-1929-4c23-9f7a-e2445a8b5d0c",
   "metadata": {},
   "outputs": [
    {
     "name": "stdout",
     "output_type": "stream",
     "text": [
      "\n",
      "Debugging Example:\n",
      "The code you provided does not handle the case where `b` is zero, which would raise a `ZeroDivisionError`. To fix this, you can add a check before performing the division. Here’s the corrected code:\n",
      "\n",
      "```python\n",
      "def divide_numbers(a, b):\n",
      "    if b == 0:\n",
      "        raise ValueError(\"Cannot divide by zero.\")\n",
      "    return a / b\n",
      "```\n",
      "\n",
      "This code now raises a `ValueError` with a descriptive message if `b` is zero, preventing the program from crashing.\n"
     ]
    }
   ],
   "source": [
    "# 6. Debugging\n",
    "buggy_code = \"\"\"def divide_numbers(a, b):\\n    return a / b\"\"\"\n",
    "prompt_debugging = f\"\"\"Identify and fix the bug in the following code written in {language} between backticks:\\n\\n```{buggy_code}```\"\"\"\n",
    "print(\"\\nDebugging Example:\")\n",
    "print(call_openai_api(prompt_debugging))"
   ]
  },
  {
   "cell_type": "code",
   "execution_count": 78,
   "id": "2b427366-e237-48e2-a286-d228486cd488",
   "metadata": {},
   "outputs": [
    {
     "name": "stdout",
     "output_type": "stream",
     "text": [
      "\n",
      "Learning/Explaining Example:\n",
      "This code defines a function called `factorial` that calculates the factorial of a number `n`. Here's how it works step by step:\n",
      "\n",
      "1. **Function Definition**: The function `factorial` takes one argument, `n`, which is the number for which we want to calculate the factorial.\n",
      "\n",
      "2. **Base Case**: The first line inside the function checks if `n` is equal to 0. In mathematics, the factorial of 0 is defined as 1. If `n` is 0, the function returns 1.\n",
      "\n",
      "3. **Recursive Case**: If `n` is not 0, the function proceeds to the `else` block. Here, it calculates the factorial by multiplying `n` with the factorial of `n-1`. This is a recursive call, meaning the function calls itself with a smaller value (`n-1`).\n",
      "\n",
      "4. **Recursion**: This process repeats, reducing `n` by 1 each time, until it eventually reaches the base case (when `n` is 0). At that point, the function starts returning values back up the chain of calls.\n",
      "\n",
      "For example, if you call `factorial(3)`, it works like this:\n",
      "- `factorial(3)` returns `3 * factorial(2)`\n",
      "- `factorial(2)` returns `2 * factorial(1)`\n",
      "- `factorial(1)` returns `1 * factorial(0)`\n",
      "- `factorial(0)` returns `1`\n",
      "- Now, substituting back: \n",
      "  - `factorial(1)` returns `1 * 1 = 1`\n",
      "  - `factorial(2)` returns `2 * 1 = 2`\n",
      "  - `factorial(3)` returns `3 * 2 = 6`\n",
      "\n",
      "So, `factorial(3)` equals 6.\n"
     ]
    }
   ],
   "source": [
    "# 7. Learning/Explaining\n",
    "code_to_explain = \"\"\"def factorial(n):\\n    if n == 0:\\n        return 1\\n    else:\\n        return n * factorial(n-1)\"\"\"\n",
    "prompt_explaining = f\"\"\"Explain how the following code works in {language} in simple terms, considering the code between backticks:\\n\\n```{code_to_explain}```\"\"\"\n",
    "print(\"\\nLearning/Explaining Example:\")\n",
    "print(call_openai_api(prompt_explaining))"
   ]
  },
  {
   "cell_type": "code",
   "execution_count": 127,
   "id": "236c0106-8148-41c6-b658-8bb632a6ad99",
   "metadata": {},
   "outputs": [
    {
     "name": "stdout",
     "output_type": "stream",
     "text": [
      "\n",
      "Boolean Output Example:\n",
      "False\n"
     ]
    }
   ],
   "source": [
    "# 8. Boolean Output Example\n",
    "condition_description = \"Check if the number 15 is a prime number\"\n",
    "prompt_boolean = f\"\"\"Return True or False: {condition_description}.\"\"\"\n",
    "print(\"\\nBoolean Output Example:\")\n",
    "result = call_openai_api(prompt=prompt_boolean, max_tokens=1)\n",
    "\n",
    "print(result)\n"
   ]
  }
 ],
 "metadata": {
  "kernelspec": {
   "display_name": "Python 3 (ipykernel)",
   "language": "python",
   "name": "python3"
  },
  "language_info": {
   "codemirror_mode": {
    "name": "ipython",
    "version": 3
   },
   "file_extension": ".py",
   "mimetype": "text/x-python",
   "name": "python",
   "nbconvert_exporter": "python",
   "pygments_lexer": "ipython3",
   "version": "3.12.4"
  }
 },
 "nbformat": 4,
 "nbformat_minor": 5
}
